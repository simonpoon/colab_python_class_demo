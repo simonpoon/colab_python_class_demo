{
  "nbformat": 4,
  "nbformat_minor": 0,
  "metadata": {
    "colab": {
      "name": "Python_Class_Demo.ipynb",
      "provenance": [],
      "collapsed_sections": [],
      "authorship_tag": "ABX9TyPINfJuaXPzt+19ZQGNocCc",
      "include_colab_link": true
    },
    "kernelspec": {
      "name": "python3",
      "display_name": "Python 3"
    },
    "language_info": {
      "name": "python"
    }
  },
  "cells": [
    {
      "cell_type": "markdown",
      "metadata": {
        "id": "view-in-github",
        "colab_type": "text"
      },
      "source": [
        "<a href=\"https://colab.research.google.com/github/simonpoon/colab_python_class_demo/blob/main/Python_Class_Demo.ipynb\" target=\"_parent\"><img src=\"https://colab.research.google.com/assets/colab-badge.svg\" alt=\"Open In Colab\"/></a>"
      ]
    },
    {
      "cell_type": "markdown",
      "source": [
        "###**0. 更新插件 ( 非 python代碼 )**\n",
        "\n",
        "在開始之前先要更新插件 pandas_datareader 到最新版本, 運行以下代碼後, 按 RESTART RUNTIME\n",
        "\n"
      ],
      "metadata": {
        "id": "35lkhlR9Wj24"
      }
    },
    {
      "cell_type": "code",
      "source": [
        "!pip install --upgrade pandas_datareader"
      ],
      "metadata": {
        "id": "ToSFal-YXJtj"
      },
      "execution_count": null,
      "outputs": []
    },
    {
      "cell_type": "markdown",
      "source": [
        "###**1. 匯入插件**\n",
        "\n",
        "匯入我們需要用到的插件, 我們用到的插件叫 Pandas 能夠從不同的來源 例如 Yahoo 拿到歷史數據。\n",
        "\n",
        "```\n",
        "import pandas_datareader as pdr\n",
        "import matplotlib.pyplot as plt\n",
        "```\n",
        "\n",
        "\n",
        "*   import 匯入\n",
        "*   pandas_datareader 和 matplotlib.pyplot 為插件名稱\n",
        "*   as 改名為 ...\n",
        "*   pdr 和 plt 是自定義名稱。我們改一個比較短的名稱方便之後需要重覆輸入插件名稱\n",
        "\n",
        "在下方輸入代碼並運行：\n",
        "\n",
        "\n",
        "\n",
        "\n",
        "\n"
      ],
      "metadata": {
        "id": "KFuAEwro4lkL"
      }
    },
    {
      "cell_type": "code",
      "source": [
        ""
      ],
      "metadata": {
        "id": "8-cmRd2enYy7"
      },
      "execution_count": 2,
      "outputs": []
    },
    {
      "cell_type": "markdown",
      "source": [
        "###**2. 取得數據**\n",
        "\n",
        "1. 從Yahoo取得HSI的歷史數據\n",
        "2. 把數據顯示出來。\n",
        "\n",
        "```\n",
        "gld = pdr.get_data_yahoo('^HSI')\n",
        "gld\n",
        "```\n",
        "\n",
        "*   gld 自定義的變數名稱\n",
        "*   pdr 匯入的 pandas_datareader 簡稱\n",
        "*   get_data_yahoo 是 pandas_datareader 的一個功能, 能夠從Yahoo 取得數據\n",
        "*   ^HSI 恆生指數的代號\n",
        "*   gld 單獨出現意思是把變數中的內容顯示出來\n",
        "\n",
        "在下方輸入代碼並執行:\n",
        "\n",
        "\n",
        "\n"
      ],
      "metadata": {
        "id": "G4F7EiOs5lqz"
      }
    },
    {
      "cell_type": "code",
      "source": [
        ""
      ],
      "metadata": {
        "id": "wXbr2gQBWxfK"
      },
      "execution_count": null,
      "outputs": []
    },
    {
      "cell_type": "markdown",
      "source": [
        "###**3. 移除不必要的數據**\n",
        "\n",
        "把其他數據移除餘下 Close 數據, 方便圖表顯示 \n",
        "\n",
        "```\n",
        "gld = gld['Close']\n",
        "gld\n",
        "```\n",
        "*   變數 gld 等餘 gld 中的 Close 數據, 現在gld就只餘下Close的數據 \n",
        "*   gld 把變數中的內容顯示出來\n",
        "\n",
        "\n",
        "\n",
        "\n",
        "\n",
        "\n"
      ],
      "metadata": {
        "id": "Ii3t7tdqY9b3"
      }
    },
    {
      "cell_type": "code",
      "source": [
        ""
      ],
      "metadata": {
        "id": "YCrOjkl1HvHJ"
      },
      "execution_count": null,
      "outputs": []
    },
    {
      "cell_type": "markdown",
      "source": [
        "###**4. 把圖表顯示出來**\n",
        "\n",
        "```\n",
        "gld.plot(figsize=(12,8),fontsize=15)\n",
        "plt.legend(loc=\"upper left\", fontsize=15)\n",
        "plt.show()\n",
        "```\n",
        "*   便用插件 matplotlib.pyplot 的功能 plot 把圖表畫出來, 數據來原是只有Close數據的 gld\n",
        "*   便用插件 matplotlib.pyplot 的功能 show 把圖表顯示出來\n",
        "\n"
      ],
      "metadata": {
        "id": "HfUnPNLGc1cp"
      }
    },
    {
      "cell_type": "code",
      "source": [
        ""
      ],
      "metadata": {
        "id": "c8Hx3t9hGvcT"
      },
      "execution_count": null,
      "outputs": []
    }
  ]
}